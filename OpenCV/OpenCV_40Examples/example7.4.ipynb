{
 "cells": [
  {
   "cell_type": "code",
   "execution_count": 26,
   "metadata": {},
   "outputs": [],
   "source": [
    "# Chapter 7 综合案例\n",
    "\n",
    "import cv2\n",
    "import numpy as np\n",
    "from path import img_path"
   ]
  },
  {
   "cell_type": "code",
   "execution_count": 27,
   "metadata": {},
   "outputs": [],
   "source": [
    "img = cv2.imread(img_path + \"Chapter7/pill3.jpg\")\n",
    "cv2.imshow(\"pill\", img)\n",
    "cv2.waitKey(0)\n",
    "cv2.destroyAllWindows()"
   ]
  },
  {
   "cell_type": "code",
   "execution_count": null,
   "metadata": {},
   "outputs": [],
   "source": [
    "gray = cv2.cvtColor(img,cv2.COLOR_BGR2GRAY)   \n",
    "ret, thresh = cv2.threshold(gray, 0, 255, cv2.THRESH_BINARY + cv2.THRESH_OTSU)\n",
    "kernel = cv2.getStructuringElement(cv2.MORPH_CROSS, (3, 3))\n",
    "opening1 = cv2.morphologyEx(thresh, cv2.MORPH_OPEN, kernel, iterations=1)\n",
    "cv2.imshow(\"binary\", thresh)\n",
    "cv2.imshow(\"opening1\", opening1)\n",
    "cv2.waitKey(0)\n",
    "cv2.destroyAllWindows()"
   ]
  },
  {
   "cell_type": "code",
   "execution_count": null,
   "metadata": {},
   "outputs": [],
   "source": [
    "dist_tranform = cv2.distanceTransform(opening1, cv2.DIST_L2, 3)\n",
    "ret, fore = cv2.threshold(dist_tranform, 0.3*dist_tranform.max(), 255, 0)\n",
    "cv2.imshow(\"dist_tranform\", dist_tranform)\n",
    "cv2.imshow(\"fore\", fore)\n",
    "cv2.waitKey(0)\n",
    "cv2.destroyAllWindows()"
   ]
  },
  {
   "cell_type": "code",
   "execution_count": null,
   "metadata": {},
   "outputs": [],
   "source": [
    "kernel = np.ones((3, 3), np.uint8)\n",
    "opening2 = cv2.morphologyEx(fore, cv2.MORPH_OPEN, kernel)\n",
    "cv2.imshow(\"opening2\", opening2)\n",
    "cv2.waitKey(0)\n",
    "cv2.destroyAllWindows()"
   ]
  },
  {
   "cell_type": "code",
   "execution_count": null,
   "metadata": {},
   "outputs": [],
   "source": [
    "opening2 = np.array(opening2, np.uint8)\n",
    "contours, hierarchy = cv2.findContours(opening2, cv2.RETR_TREE, cv2.CHAIN_APPROX_SIMPLE)"
   ]
  },
  {
   "cell_type": "code",
   "execution_count": null,
   "metadata": {},
   "outputs": [],
   "source": [
    "font = cv2.FONT_HERSHEY_COMPLEX\n",
    "\n",
    "for cnt in contours:\n",
    "    (x, y), radius = cv2.minEnclosingCircle(cnt)\n",
    "    center = (int(x), int(y))\n",
    "    radius = int(radius)\n",
    "    circle_img = cv2.circle(opening2, center, radius, (255, 255, 255), 1)\n",
    "\n",
    "    area = cv2.contourArea(cnt)\n",
    "    area_circle = np.pi * radius * radius\n",
    "\n",
    "    if area / area_circle >= 0.5:\n",
    "        img = cv2.putText(img, \"OK\", center, font, 1, (0, 255, 0), 2)\n",
    "    else:\n",
    "        img = cv2.putText(img, \"BAD\", center, font, 1, (0, 0, 255), 2)\n",
    "\n",
    "cv2.putText(img, f\"count={len(contours)}\", (20, 30), font, 1, (255, 0, 0), 2)\n",
    "\n",
    "cv2.imshow(\"img\", img)\n",
    "cv2.waitKey(0)\n",
    "cv2.destroyAllWindows()"
   ]
  },
  {
   "cell_type": "code",
   "execution_count": null,
   "metadata": {},
   "outputs": [],
   "source": []
  }
 ],
 "metadata": {
  "kernelspec": {
   "display_name": "yolov5",
   "language": "python",
   "name": "python3"
  },
  "language_info": {
   "codemirror_mode": {
    "name": "ipython",
    "version": 3
   },
   "file_extension": ".py",
   "mimetype": "text/x-python",
   "name": "python",
   "nbconvert_exporter": "python",
   "pygments_lexer": "ipython3",
   "version": "3.8.13"
  },
  "orig_nbformat": 4,
  "vscode": {
   "interpreter": {
    "hash": "af9d7796d9c37f4bd2fc03ba651c1cbe650d3fa576cd422695e7b795212fe0df"
   }
  }
 },
 "nbformat": 4,
 "nbformat_minor": 2
}
